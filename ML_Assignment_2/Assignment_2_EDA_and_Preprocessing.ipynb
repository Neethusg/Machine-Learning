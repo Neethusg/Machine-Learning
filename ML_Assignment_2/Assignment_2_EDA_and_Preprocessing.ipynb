{
 "cells": [
  {
   "cell_type": "markdown",
   "id": "d6239223-48b0-4b0c-a568-39866b76e850",
   "metadata": {},
   "source": [
    "# Assignment_2_EDA_and_Preprocessing"
   ]
  },
  {
   "cell_type": "code",
   "execution_count": 1,
   "id": "2986572c-39bd-4b02-9842-e9534df6bb2c",
   "metadata": {},
   "outputs": [],
   "source": [
    "import numpy as np\n",
    "import scipy.stats as stats\n",
    "import matplotlib.pyplot as plt\n",
    "import pandas as pd\n",
    "import seaborn as sns"
   ]
  },
  {
   "cell_type": "code",
   "execution_count": 8,
   "id": "e7edeb7d-d71b-425a-ab79-b97771a75ca3",
   "metadata": {},
   "outputs": [],
   "source": [
    "df = pd.read_csv(\"Employee.csv\")"
   ]
  },
  {
   "cell_type": "code",
   "execution_count": null,
   "id": "41b24115-6b52-47e0-9328-0edf2227b62a",
   "metadata": {},
   "outputs": [],
   "source": [
    "#Q1.Explore the data, list down the unique values in each feature and find its length.Perform the statistical analysis and renaming of the columns."
   ]
  },
  {
   "cell_type": "code",
   "execution_count": 9,
   "id": "dc56b327-e09b-409d-871c-6f716571b70e",
   "metadata": {},
   "outputs": [
    {
     "name": "stdout",
     "output_type": "stream",
     "text": [
      "First 5 rows:\n",
      "    Company   Age  Salary     Place Country  Gender\n",
      "0      TCS  20.0     NaN   Chennai   India       0\n",
      "1  Infosys  30.0     NaN    Mumbai   India       0\n",
      "2      TCS  35.0  2300.0  Calcutta   India       0\n",
      "3  Infosys  40.0  3000.0     Delhi   India       0\n",
      "4      TCS  23.0  4000.0    Mumbai   India       0\n",
      "\n",
      "Data types:\n",
      " Company     object\n",
      "Age        float64\n",
      "Salary     float64\n",
      "Place       object\n",
      "Country     object\n",
      "Gender       int64\n",
      "dtype: object\n",
      "\n",
      "Shape of data: (148, 6)\n"
     ]
    }
   ],
   "source": [
    "print(\"First 5 rows:\\n\", df.head())\n",
    "print(\"\\nData types:\\n\", df.dtypes)\n",
    "print(\"\\nShape of data:\", df.shape)"
   ]
  },
  {
   "cell_type": "code",
   "execution_count": 42,
   "id": "8ac0e573-32f8-4781-a35a-7b8efa7248e5",
   "metadata": {},
   "outputs": [
    {
     "name": "stdout",
     "output_type": "stream",
     "text": [
      "<class 'pandas.core.frame.DataFrame'>\n",
      "RangeIndex: 148 entries, 0 to 147\n",
      "Data columns (total 6 columns):\n",
      " #   Column   Non-Null Count  Dtype  \n",
      "---  ------   --------------  -----  \n",
      " 0   Company  148 non-null    object \n",
      " 1   Age      148 non-null    float64\n",
      " 2   Salary   148 non-null    float64\n",
      " 3   Place    148 non-null    object \n",
      " 4   Country  148 non-null    object \n",
      " 5   Gender   148 non-null    int64  \n",
      "dtypes: float64(2), int64(1), object(3)\n",
      "memory usage: 7.1+ KB\n"
     ]
    }
   ],
   "source": [
    "df.info()"
   ]
  },
  {
   "cell_type": "code",
   "execution_count": 10,
   "id": "ec7a6a50-1db2-4f31-8eb2-b4851d12a5b4",
   "metadata": {},
   "outputs": [
    {
     "data": {
      "text/html": [
       "<div>\n",
       "<style scoped>\n",
       "    .dataframe tbody tr th:only-of-type {\n",
       "        vertical-align: middle;\n",
       "    }\n",
       "\n",
       "    .dataframe tbody tr th {\n",
       "        vertical-align: top;\n",
       "    }\n",
       "\n",
       "    .dataframe thead th {\n",
       "        text-align: right;\n",
       "    }\n",
       "</style>\n",
       "<table border=\"1\" class=\"dataframe\">\n",
       "  <thead>\n",
       "    <tr style=\"text-align: right;\">\n",
       "      <th></th>\n",
       "      <th>Company</th>\n",
       "      <th>Age</th>\n",
       "      <th>Salary</th>\n",
       "      <th>Place</th>\n",
       "      <th>Country</th>\n",
       "      <th>Gender</th>\n",
       "    </tr>\n",
       "  </thead>\n",
       "  <tbody>\n",
       "    <tr>\n",
       "      <th>0</th>\n",
       "      <td>TCS</td>\n",
       "      <td>20.0</td>\n",
       "      <td>NaN</td>\n",
       "      <td>Chennai</td>\n",
       "      <td>India</td>\n",
       "      <td>0</td>\n",
       "    </tr>\n",
       "    <tr>\n",
       "      <th>1</th>\n",
       "      <td>Infosys</td>\n",
       "      <td>30.0</td>\n",
       "      <td>NaN</td>\n",
       "      <td>Mumbai</td>\n",
       "      <td>India</td>\n",
       "      <td>0</td>\n",
       "    </tr>\n",
       "    <tr>\n",
       "      <th>2</th>\n",
       "      <td>TCS</td>\n",
       "      <td>35.0</td>\n",
       "      <td>2300.0</td>\n",
       "      <td>Calcutta</td>\n",
       "      <td>India</td>\n",
       "      <td>0</td>\n",
       "    </tr>\n",
       "    <tr>\n",
       "      <th>3</th>\n",
       "      <td>Infosys</td>\n",
       "      <td>40.0</td>\n",
       "      <td>3000.0</td>\n",
       "      <td>Delhi</td>\n",
       "      <td>India</td>\n",
       "      <td>0</td>\n",
       "    </tr>\n",
       "    <tr>\n",
       "      <th>4</th>\n",
       "      <td>TCS</td>\n",
       "      <td>23.0</td>\n",
       "      <td>4000.0</td>\n",
       "      <td>Mumbai</td>\n",
       "      <td>India</td>\n",
       "      <td>0</td>\n",
       "    </tr>\n",
       "    <tr>\n",
       "      <th>5</th>\n",
       "      <td>Infosys</td>\n",
       "      <td>NaN</td>\n",
       "      <td>5000.0</td>\n",
       "      <td>Calcutta</td>\n",
       "      <td>India</td>\n",
       "      <td>0</td>\n",
       "    </tr>\n",
       "    <tr>\n",
       "      <th>6</th>\n",
       "      <td>TCS</td>\n",
       "      <td>NaN</td>\n",
       "      <td>6000.0</td>\n",
       "      <td>Chennai</td>\n",
       "      <td>India</td>\n",
       "      <td>1</td>\n",
       "    </tr>\n",
       "    <tr>\n",
       "      <th>7</th>\n",
       "      <td>Infosys</td>\n",
       "      <td>23.0</td>\n",
       "      <td>7000.0</td>\n",
       "      <td>Mumbai</td>\n",
       "      <td>India</td>\n",
       "      <td>1</td>\n",
       "    </tr>\n",
       "    <tr>\n",
       "      <th>8</th>\n",
       "      <td>TCS</td>\n",
       "      <td>34.0</td>\n",
       "      <td>8000.0</td>\n",
       "      <td>Calcutta</td>\n",
       "      <td>India</td>\n",
       "      <td>1</td>\n",
       "    </tr>\n",
       "    <tr>\n",
       "      <th>9</th>\n",
       "      <td>CTS</td>\n",
       "      <td>45.0</td>\n",
       "      <td>9000.0</td>\n",
       "      <td>Delhi</td>\n",
       "      <td>India</td>\n",
       "      <td>0</td>\n",
       "    </tr>\n",
       "  </tbody>\n",
       "</table>\n",
       "</div>"
      ],
      "text/plain": [
       "   Company   Age  Salary     Place Country  Gender\n",
       "0      TCS  20.0     NaN   Chennai   India       0\n",
       "1  Infosys  30.0     NaN    Mumbai   India       0\n",
       "2      TCS  35.0  2300.0  Calcutta   India       0\n",
       "3  Infosys  40.0  3000.0     Delhi   India       0\n",
       "4      TCS  23.0  4000.0    Mumbai   India       0\n",
       "5  Infosys   NaN  5000.0  Calcutta   India       0\n",
       "6      TCS   NaN  6000.0   Chennai   India       1\n",
       "7  Infosys  23.0  7000.0    Mumbai   India       1\n",
       "8      TCS  34.0  8000.0  Calcutta   India       1\n",
       "9      CTS  45.0  9000.0     Delhi   India       0"
      ]
     },
     "execution_count": 10,
     "metadata": {},
     "output_type": "execute_result"
    }
   ],
   "source": [
    "df.head(10)"
   ]
  },
  {
   "cell_type": "code",
   "execution_count": 14,
   "id": "a9bdce29-3a6f-43a2-a6bd-fdb1cf093d83",
   "metadata": {},
   "outputs": [
    {
     "name": "stdout",
     "output_type": "stream",
     "text": [
      "\n",
      "Unique values in each column:\n",
      "Company -> ['TCS' 'Infosys' 'CTS' nan 'Tata Consultancy Services' 'Congnizant'\n",
      " 'Infosys Pvt Lmt'] (Count: 7)\n",
      "Age -> [20. 30. 35. 40. 23. nan 34. 45. 18. 22. 32. 37. 50. 21. 46. 36. 26. 41.\n",
      " 24. 25. 43. 19. 38. 51. 31. 44. 33. 17.  0. 54.] (Count: 30)\n",
      "Salary -> [  nan 2300. 3000. 4000. 5000. 6000. 7000. 8000. 9000. 1089. 1234. 3030.\n",
      " 3045. 3184. 4824. 5835. 7084. 8943. 8345. 9284. 9876. 2034. 7654. 2934.\n",
      " 4034. 5034. 8202. 9024. 4345. 6544. 6543. 3234. 4324. 5435. 5555. 8787.\n",
      " 3454. 5654. 5009. 5098. 3033.] (Count: 41)\n",
      "Place -> ['Chennai' 'Mumbai' 'Calcutta' 'Delhi' 'Podicherry' 'Cochin' nan 'Noida'\n",
      " 'Hyderabad' 'Bhopal' 'Nagpur' 'Pune'] (Count: 12)\n",
      "Country -> ['India'] (Count: 1)\n",
      "Gender -> [0 1] (Count: 2)\n"
     ]
    }
   ],
   "source": [
    "print(\"\\nUnique values in each column:\")\n",
    "for col in df.columns:\n",
    "    unique_val = df[col].unique()\n",
    "    print(f\"{col} -> {unique_val} (Count: {len(unique_val)})\")"
   ]
  },
  {
   "cell_type": "code",
   "execution_count": 15,
   "id": "4ab05b3a-4d01-4aff-9eba-a0723256ce72",
   "metadata": {},
   "outputs": [
    {
     "name": "stdout",
     "output_type": "stream",
     "text": [
      "\n",
      "Statistical Summary:\n",
      "       Company         Age       Salary   Place Country      Gender\n",
      "count      140  130.000000   124.000000     134     148  148.000000\n",
      "unique       6         NaN          NaN      11       1         NaN\n",
      "top        TCS         NaN          NaN  Mumbai   India         NaN\n",
      "freq        53         NaN          NaN      37     148         NaN\n",
      "mean       NaN   30.484615  5312.467742     NaN     NaN    0.222973\n",
      "std        NaN   11.096640  2573.764683     NaN     NaN    0.417654\n",
      "min        NaN    0.000000  1089.000000     NaN     NaN    0.000000\n",
      "25%        NaN   22.000000  3030.000000     NaN     NaN    0.000000\n",
      "50%        NaN   32.500000  5000.000000     NaN     NaN    0.000000\n",
      "75%        NaN   37.750000  8000.000000     NaN     NaN    0.000000\n",
      "max        NaN   54.000000  9876.000000     NaN     NaN    1.000000\n"
     ]
    }
   ],
   "source": [
    "print(\"\\nStatistical Summary:\")\n",
    "print(df.describe(include='all'))"
   ]
  },
  {
   "cell_type": "code",
   "execution_count": 30,
   "id": "cbeeaa5f-586a-4abb-bf7f-2c2f238dae2a",
   "metadata": {},
   "outputs": [
    {
     "name": "stdout",
     "output_type": "stream",
     "text": [
      "\n",
      "Renamed Columns:\n",
      "Index(['Company name', 'Age of Employees', 'Salary', 'Place', 'Country',\n",
      "       'Gender'],\n",
      "      dtype='object')\n"
     ]
    }
   ],
   "source": [
    "df_renamed = df.rename(columns={'Company': 'Company name', 'Age': 'Age of Employees'})\n",
    "\n",
    "print(\"\\nRenamed Columns:\")\n",
    "print(df_renamed.columns)"
   ]
  },
  {
   "cell_type": "code",
   "execution_count": 32,
   "id": "d8e2d96d-04cb-4739-95ce-017971a92d06",
   "metadata": {},
   "outputs": [
    {
     "data": {
      "text/html": [
       "<div>\n",
       "<style scoped>\n",
       "    .dataframe tbody tr th:only-of-type {\n",
       "        vertical-align: middle;\n",
       "    }\n",
       "\n",
       "    .dataframe tbody tr th {\n",
       "        vertical-align: top;\n",
       "    }\n",
       "\n",
       "    .dataframe thead th {\n",
       "        text-align: right;\n",
       "    }\n",
       "</style>\n",
       "<table border=\"1\" class=\"dataframe\">\n",
       "  <thead>\n",
       "    <tr style=\"text-align: right;\">\n",
       "      <th></th>\n",
       "      <th>Company name</th>\n",
       "      <th>Age of Employees</th>\n",
       "      <th>Salary</th>\n",
       "      <th>Place</th>\n",
       "      <th>Country</th>\n",
       "      <th>Gender</th>\n",
       "    </tr>\n",
       "  </thead>\n",
       "  <tbody>\n",
       "    <tr>\n",
       "      <th>0</th>\n",
       "      <td>TCS</td>\n",
       "      <td>20.0</td>\n",
       "      <td>NaN</td>\n",
       "      <td>Chennai</td>\n",
       "      <td>India</td>\n",
       "      <td>0</td>\n",
       "    </tr>\n",
       "    <tr>\n",
       "      <th>1</th>\n",
       "      <td>Infosys</td>\n",
       "      <td>30.0</td>\n",
       "      <td>NaN</td>\n",
       "      <td>Mumbai</td>\n",
       "      <td>India</td>\n",
       "      <td>0</td>\n",
       "    </tr>\n",
       "    <tr>\n",
       "      <th>2</th>\n",
       "      <td>TCS</td>\n",
       "      <td>35.0</td>\n",
       "      <td>2300.0</td>\n",
       "      <td>Calcutta</td>\n",
       "      <td>India</td>\n",
       "      <td>0</td>\n",
       "    </tr>\n",
       "    <tr>\n",
       "      <th>3</th>\n",
       "      <td>Infosys</td>\n",
       "      <td>40.0</td>\n",
       "      <td>3000.0</td>\n",
       "      <td>Delhi</td>\n",
       "      <td>India</td>\n",
       "      <td>0</td>\n",
       "    </tr>\n",
       "    <tr>\n",
       "      <th>4</th>\n",
       "      <td>TCS</td>\n",
       "      <td>23.0</td>\n",
       "      <td>4000.0</td>\n",
       "      <td>Mumbai</td>\n",
       "      <td>India</td>\n",
       "      <td>0</td>\n",
       "    </tr>\n",
       "    <tr>\n",
       "      <th>5</th>\n",
       "      <td>Infosys</td>\n",
       "      <td>NaN</td>\n",
       "      <td>5000.0</td>\n",
       "      <td>Calcutta</td>\n",
       "      <td>India</td>\n",
       "      <td>0</td>\n",
       "    </tr>\n",
       "    <tr>\n",
       "      <th>6</th>\n",
       "      <td>TCS</td>\n",
       "      <td>NaN</td>\n",
       "      <td>6000.0</td>\n",
       "      <td>Chennai</td>\n",
       "      <td>India</td>\n",
       "      <td>1</td>\n",
       "    </tr>\n",
       "    <tr>\n",
       "      <th>7</th>\n",
       "      <td>Infosys</td>\n",
       "      <td>23.0</td>\n",
       "      <td>7000.0</td>\n",
       "      <td>Mumbai</td>\n",
       "      <td>India</td>\n",
       "      <td>1</td>\n",
       "    </tr>\n",
       "    <tr>\n",
       "      <th>8</th>\n",
       "      <td>TCS</td>\n",
       "      <td>34.0</td>\n",
       "      <td>8000.0</td>\n",
       "      <td>Calcutta</td>\n",
       "      <td>India</td>\n",
       "      <td>1</td>\n",
       "    </tr>\n",
       "    <tr>\n",
       "      <th>9</th>\n",
       "      <td>CTS</td>\n",
       "      <td>45.0</td>\n",
       "      <td>9000.0</td>\n",
       "      <td>Delhi</td>\n",
       "      <td>India</td>\n",
       "      <td>0</td>\n",
       "    </tr>\n",
       "  </tbody>\n",
       "</table>\n",
       "</div>"
      ],
      "text/plain": [
       "  Company name  Age of Employees  Salary     Place Country  Gender\n",
       "0          TCS              20.0     NaN   Chennai   India       0\n",
       "1      Infosys              30.0     NaN    Mumbai   India       0\n",
       "2          TCS              35.0  2300.0  Calcutta   India       0\n",
       "3      Infosys              40.0  3000.0     Delhi   India       0\n",
       "4          TCS              23.0  4000.0    Mumbai   India       0\n",
       "5      Infosys               NaN  5000.0  Calcutta   India       0\n",
       "6          TCS               NaN  6000.0   Chennai   India       1\n",
       "7      Infosys              23.0  7000.0    Mumbai   India       1\n",
       "8          TCS              34.0  8000.0  Calcutta   India       1\n",
       "9          CTS              45.0  9000.0     Delhi   India       0"
      ]
     },
     "execution_count": 32,
     "metadata": {},
     "output_type": "execute_result"
    }
   ],
   "source": [
    "df_renamed.head(10)"
   ]
  },
  {
   "cell_type": "code",
   "execution_count": 33,
   "id": "6f23323d-d553-47ea-9353-6b28c60a6fd6",
   "metadata": {},
   "outputs": [
    {
     "name": "stdout",
     "output_type": "stream",
     "text": [
      "Missing values per column:\n",
      " Company     8\n",
      "Age        18\n",
      "Salary     24\n",
      "Place      14\n",
      "Country     0\n",
      "Gender      0\n",
      "dtype: int64\n"
     ]
    }
   ],
   "source": [
    "#Q2. Data Cleaning\n",
    "#1. Find the missing and inappropriate values, treat them appropriately.\n",
    "# Checking the missing values\n",
    "print(\"Missing values per column:\\n\", df.isnull().sum())"
   ]
  },
  {
   "cell_type": "code",
   "execution_count": 35,
   "id": "599d2a96-2c19-4c3d-bf0e-d51d2415d581",
   "metadata": {},
   "outputs": [
    {
     "name": "stderr",
     "output_type": "stream",
     "text": [
      "C:\\Users\\Neethu sethuraj\\AppData\\Local\\Temp\\ipykernel_14676\\1258563117.py:3: FutureWarning: A value is trying to be set on a copy of a DataFrame or Series through chained assignment using an inplace method.\n",
      "The behavior will change in pandas 3.0. This inplace method will never work because the intermediate object on which we are setting values always behaves as a copy.\n",
      "\n",
      "For example, when doing 'df[col].method(value, inplace=True)', try using 'df.method({col: value}, inplace=True)' or df[col] = df[col].method(value) instead, to perform the operation inplace on the original object.\n",
      "\n",
      "\n",
      "  df['Age'].fillna(df['Age'].median(), inplace=True)\n"
     ]
    }
   ],
   "source": [
    "df['Place'].fillna('Unknown', inplace=True)\n",
    "df['Company'].fillna('Unknown', inplace=True)\n",
    "df['Age'].fillna(df['Age'].median(), inplace=True)"
   ]
  },
  {
   "cell_type": "code",
   "execution_count": 37,
   "id": "05bfbf02-1059-44dc-af69-9009db8f25ba",
   "metadata": {},
   "outputs": [
    {
     "name": "stderr",
     "output_type": "stream",
     "text": [
      "C:\\Users\\Neethu sethuraj\\AppData\\Local\\Temp\\ipykernel_14676\\133416351.py:2: FutureWarning: A value is trying to be set on a copy of a DataFrame or Series through chained assignment using an inplace method.\n",
      "The behavior will change in pandas 3.0. This inplace method will never work because the intermediate object on which we are setting values always behaves as a copy.\n",
      "\n",
      "For example, when doing 'df[col].method(value, inplace=True)', try using 'df.method({col: value}, inplace=True)' or df[col] = df[col].method(value) instead, to perform the operation inplace on the original object.\n",
      "\n",
      "\n",
      "  df['Salary'].fillna(median_salary, inplace=True)\n"
     ]
    }
   ],
   "source": [
    "median_salary = df['Salary'].median()\n",
    "df['Salary'].fillna(median_salary, inplace=True)"
   ]
  },
  {
   "cell_type": "code",
   "execution_count": 38,
   "id": "bea5dd39-be1c-46a4-8a12-b64e149e82bd",
   "metadata": {},
   "outputs": [
    {
     "name": "stdout",
     "output_type": "stream",
     "text": [
      "Missing values per column:\n",
      " Company    0\n",
      "Age        0\n",
      "Salary     0\n",
      "Place      0\n",
      "Country    0\n",
      "Gender     0\n",
      "dtype: int64\n"
     ]
    }
   ],
   "source": [
    "print(\"Missing values per column:\\n\", df.isnull().sum())"
   ]
  },
  {
   "cell_type": "code",
   "execution_count": 39,
   "id": "e39fab0e-4baf-4f1a-b1b7-9fb99df75f8d",
   "metadata": {},
   "outputs": [
    {
     "name": "stdout",
     "output_type": "stream",
     "text": [
      "Duplicate rows:\n",
      "      Company   Age  Salary     Place Country  Gender\n",
      "84       CTS  43.0  5000.0    Mumbai   India       0\n",
      "130      TCS  21.0  4824.0    Mumbai   India       0\n",
      "131  Infosys  32.5  5835.0    Mumbai   India       0\n",
      "144  Infosys  22.0  8787.0  Calcutta   India       1\n"
     ]
    }
   ],
   "source": [
    "#2. Duplicate Rows\n",
    "print(\"Duplicate rows:\\n\", df[df.duplicated()])"
   ]
  },
  {
   "cell_type": "code",
   "execution_count": 43,
   "id": "644260ef-13b1-4ef0-babf-64a5c6c4fb1a",
   "metadata": {},
   "outputs": [
    {
     "name": "stdout",
     "output_type": "stream",
     "text": [
      "             Company   Age  Salary     Place Country  Gender\n",
      "0                TCS  20.0  5000.0   Chennai   India       0\n",
      "1            Infosys  30.0  5000.0    Mumbai   India       0\n",
      "2                TCS  35.0  2300.0  Calcutta   India       0\n",
      "3            Infosys  40.0  3000.0     Delhi   India       0\n",
      "4                TCS  23.0  4000.0    Mumbai   India       0\n",
      "..               ...   ...     ...       ...     ...     ...\n",
      "142  Infosys Pvt Lmt  22.0  8202.0    Mumbai   India       0\n",
      "143              TCS  33.0  9024.0  Calcutta   India       1\n",
      "145          Infosys  44.0  4034.0     Delhi   India       1\n",
      "146              TCS  33.0  5034.0    Mumbai   India       1\n",
      "147          Infosys  22.0  8202.0    Cochin   India       0\n",
      "\n",
      "[144 rows x 6 columns]\n"
     ]
    }
   ],
   "source": [
    "No_Duplicates = df.drop_duplicates()\n",
    "print(No_Duplicates)"
   ]
  },
  {
   "cell_type": "code",
   "execution_count": 46,
   "id": "7f1c3956-b9a7-4537-8d42-be3811ee4233",
   "metadata": {},
   "outputs": [
    {
     "name": "stdout",
     "output_type": "stream",
     "text": [
      "Outliers using IQR method:\n",
      " Empty DataFrame\n",
      "Columns: [Company, Age, Salary, Place, Country, Gender]\n",
      "Index: []\n"
     ]
    }
   ],
   "source": [
    "#3. Find the outliers.\n",
    "#IQR Method\n",
    "Q1 = df['Salary'].quantile(0.25)\n",
    "Q3 = df['Salary'].quantile(0.75)\n",
    "IQR = Q3 - Q1\n",
    "\n",
    "lower_bound = Q1 - 1.5 * IQR\n",
    "upper_bound = Q3 + 1.5 * IQR\n",
    "\n",
    "outliers = df[(df['Salary'] < lower_bound) | (df['Salary'] > upper_bound)]\n",
    "\n",
    "print(\"Outliers using IQR method:\\n\", outliers)"
   ]
  },
  {
   "cell_type": "code",
   "execution_count": 48,
   "id": "b7a5269f-f7f5-4857-babf-56546809e93e",
   "metadata": {},
   "outputs": [
    {
     "name": "stdout",
     "output_type": "stream",
     "text": [
      "Outliers using Z-score method:\n",
      " Empty DataFrame\n",
      "Columns: [Company, Age, Salary, Place, Country, Gender]\n",
      "Index: []\n"
     ]
    }
   ],
   "source": [
    "#Z-Score method\n",
    "z_scores = np.abs(stats.zscore(df['Salary']))\n",
    "outliers_z = df[z_scores > 3]\n",
    "print(\"Outliers using Z-score method:\\n\", outliers_z)"
   ]
  },
  {
   "cell_type": "code",
   "execution_count": 50,
   "id": "93b26ae8-0f00-49a7-8624-244f4124b728",
   "metadata": {},
   "outputs": [
    {
     "name": "stdout",
     "output_type": "stream",
     "text": [
      "\n",
      "Updated DataFrame with 0s in age replaced by NaN:\n",
      "     Company   Age  Salary     Place Country  Gender\n",
      "0        TCS  20.0  5000.0   Chennai   India       0\n",
      "1    Infosys  30.0  5000.0    Mumbai   India       0\n",
      "2        TCS  35.0  2300.0  Calcutta   India       0\n",
      "3    Infosys  40.0  3000.0     Delhi   India       0\n",
      "4        TCS  23.0  4000.0    Mumbai   India       0\n",
      "..       ...   ...     ...       ...     ...     ...\n",
      "143      TCS  33.0  9024.0  Calcutta   India       1\n",
      "144  Infosys  22.0  8787.0  Calcutta   India       1\n",
      "145  Infosys  44.0  4034.0     Delhi   India       1\n",
      "146      TCS  33.0  5034.0    Mumbai   India       1\n",
      "147  Infosys  22.0  8202.0    Cochin   India       0\n",
      "\n",
      "[148 rows x 6 columns]\n"
     ]
    },
    {
     "name": "stderr",
     "output_type": "stream",
     "text": [
      "C:\\Users\\Neethu sethuraj\\AppData\\Local\\Temp\\ipykernel_14676\\3136755103.py:2: FutureWarning: A value is trying to be set on a copy of a DataFrame or Series through chained assignment using an inplace method.\n",
      "The behavior will change in pandas 3.0. This inplace method will never work because the intermediate object on which we are setting values always behaves as a copy.\n",
      "\n",
      "For example, when doing 'df[col].method(value, inplace=True)', try using 'df.method({col: value}, inplace=True)' or df[col] = df[col].method(value) instead, to perform the operation inplace on the original object.\n",
      "\n",
      "\n",
      "  df['Age'].replace(0, np.nan, inplace=True)\n"
     ]
    }
   ],
   "source": [
    "#4. Replace the value 0 in age as NaN\n",
    "df['Age'].replace(0, np.nan, inplace=True)\n",
    "\n",
    "print(\"\\nUpdated DataFrame with 0s in age replaced by NaN:\")\n",
    "print(df)"
   ]
  },
  {
   "cell_type": "code",
   "execution_count": 51,
   "id": "198d018d-9099-43b9-b276-69efdfb4f612",
   "metadata": {},
   "outputs": [],
   "source": [
    "#5. Treat the null values in all columns using any measures(removing/ replace the values with mean/median/mode)\n",
    "df.fillna(df.median(numeric_only=True), inplace=True)"
   ]
  },
  {
   "cell_type": "code",
   "execution_count": 52,
   "id": "1650e036-8cf0-44f8-a241-c25e97fad169",
   "metadata": {},
   "outputs": [
    {
     "name": "stdout",
     "output_type": "stream",
     "text": [
      "\n",
      "Simple cleaned DataFrame:\n",
      "     Company   Age  Salary     Place Country  Gender\n",
      "0        TCS  20.0  5000.0   Chennai   India       0\n",
      "1    Infosys  30.0  5000.0    Mumbai   India       0\n",
      "2        TCS  35.0  2300.0  Calcutta   India       0\n",
      "3    Infosys  40.0  3000.0     Delhi   India       0\n",
      "4        TCS  23.0  4000.0    Mumbai   India       0\n",
      "..       ...   ...     ...       ...     ...     ...\n",
      "143      TCS  33.0  9024.0  Calcutta   India       1\n",
      "144  Infosys  22.0  8787.0  Calcutta   India       1\n",
      "145  Infosys  44.0  4034.0     Delhi   India       1\n",
      "146      TCS  33.0  5034.0    Mumbai   India       1\n",
      "147  Infosys  22.0  8202.0    Cochin   India       0\n",
      "\n",
      "[148 rows x 6 columns]\n"
     ]
    },
    {
     "name": "stderr",
     "output_type": "stream",
     "text": [
      "C:\\Users\\Neethu sethuraj\\AppData\\Local\\Temp\\ipykernel_14676\\2364201280.py:2: FutureWarning: A value is trying to be set on a copy of a DataFrame or Series through chained assignment using an inplace method.\n",
      "The behavior will change in pandas 3.0. This inplace method will never work because the intermediate object on which we are setting values always behaves as a copy.\n",
      "\n",
      "For example, when doing 'df[col].method(value, inplace=True)', try using 'df.method({col: value}, inplace=True)' or df[col] = df[col].method(value) instead, to perform the operation inplace on the original object.\n",
      "\n",
      "\n",
      "  df[col].fillna(df[col].mode()[0], inplace=True)\n"
     ]
    }
   ],
   "source": [
    "for col in df.select_dtypes(include='object'):\n",
    "    df[col].fillna(df[col].mode()[0], inplace=True)\n",
    "\n",
    "print(\"\\nSimple cleaned DataFrame:\")\n",
    "print(df)"
   ]
  },
  {
   "cell_type": "code",
   "execution_count": 54,
   "id": "04947bd0-55ff-4f3a-940a-9e2073d3f728",
   "metadata": {},
   "outputs": [
    {
     "name": "stdout",
     "output_type": "stream",
     "text": [
      "\n",
      "Filtered Data (Age > 40 and Salary < 5000):\n",
      "     Company   Age  Salary      Place Country  Gender\n",
      "21   Infosys  50.0  3184.0      Delhi   India       0\n",
      "32   Infosys  45.0  4034.0   Calcutta   India       0\n",
      "39   Infosys  41.0  3000.0     Mumbai   India       0\n",
      "50   Infosys  41.0  3000.0    Chennai   India       0\n",
      "57   Infosys  51.0  3184.0  Hyderabad   India       0\n",
      "68   Infosys  43.0  4034.0     Mumbai   India       0\n",
      "75   Infosys  44.0  3000.0     Cochin   India       0\n",
      "86   Infosys  41.0  3000.0      Delhi   India       0\n",
      "93   Infosys  54.0  3184.0     Mumbai   India       0\n",
      "104  Infosys  44.0  4034.0      Delhi   India       0\n",
      "122  Infosys  44.0  3234.0     Mumbai   India       0\n",
      "129  Infosys  50.0  3184.0   Calcutta   India       0\n",
      "138      CTS  44.0  3033.0     Cochin   India       0\n",
      "140  Infosys  44.0  4034.0  Hyderabad   India       0\n",
      "145  Infosys  44.0  4034.0      Delhi   India       1\n"
     ]
    }
   ],
   "source": [
    "#Q3. Data Analysis\n",
    "#1. Filter the data with age >40 and salary<5000\n",
    "filtered_df = df[(df['Age'] > 40) & (df['Salary'] < 5000)]\n",
    "print(\"\\nFiltered Data (Age > 40 and Salary < 5000):\")\n",
    "print(filtered_df)"
   ]
  },
  {
   "cell_type": "code",
   "execution_count": 63,
   "id": "24f57eab-89e4-406c-bffb-d81bf6fb254b",
   "metadata": {},
   "outputs": [
    {
     "data": {
      "image/png": "[encoded data removed]",
      "text/plain": [
       "<Figure size 800x500 with 1 Axes>"
      ]
     },
     "metadata": {},
     "output_type": "display_data"
    }
   ],
   "source": [
    "#2. Plot the chart with age and salary\n",
    "plt.figure(figsize=(8, 5))\n",
    "plt.bar(df['Age'], df['Salary'], color='skyblue')\n",
    "plt.title('Salary by Age')\n",
    "plt.xlabel('Age')\n",
    "plt.ylabel('Salary')\n",
    "plt.grid(axis='y', linestyle='--', alpha=0.7)\n",
    "plt.tight_layout()\n",
    "plt.show()"
   ]
  },
  {
   "cell_type": "code",
   "execution_count": 66,
   "id": "4bc49dee-153e-49da-8a15-d74a44e3eb36",
   "metadata": {},
   "outputs": [
    {
     "data": {
      "text/plain": [
       "Place\n",
       "Mumbai        37\n",
       "Calcutta      33\n",
       "Chennai       14\n",
       "Delhi         14\n",
       "Unknown       14\n",
       "Cochin        13\n",
       "Noida          8\n",
       "Hyderabad      8\n",
       "Podicherry     3\n",
       "Pune           2\n",
       "Bhopal         1\n",
       "Nagpur         1\n",
       "Name: count, dtype: int64"
      ]
     },
     "execution_count": 66,
     "metadata": {},
     "output_type": "execute_result"
    }
   ],
   "source": [
    "#3. Count the number of people from each place and represent it visually\n",
    "place_counts = df['Place'].value_counts()\n",
    "place_counts"
   ]
  },
  {
   "cell_type": "code",
   "execution_count": 67,
   "id": "f68a19aa-5e14-4e4d-a2a6-813039462c15",
   "metadata": {},
   "outputs": [
    {
     "data": {
      "image/png": "[encoded data removed]",
      "text/plain": [
       "<Figure size 600x600 with 1 Axes>"
      ]
     },
     "metadata": {},
     "output_type": "display_data"
    }
   ],
   "source": [
    "place_counts.plot(kind='pie', autopct='%1.1f%%', startangle=140, figsize=(6,6), colors=['#66b3ff','#ff9999','#99ff99','#ffcc99'])\n",
    "plt.title('People Distribution by Place')\n",
    "plt.ylabel('')\n",
    "plt.tight_layout()\n",
    "plt.show()"
   ]
  },
  {
   "cell_type": "code",
   "execution_count": 69,
   "id": "a29faceb-09f8-4385-85b9-8191527578be",
   "metadata": {},
   "outputs": [
    {
     "data": {
      "image/png": "[encoded data removed]",
      "text/plain": [
       "<Figure size 700x500 with 1 Axes>"
      ]
     },
     "metadata": {},
     "output_type": "display_data"
    }
   ],
   "source": [
    "# Bar Chart\n",
    "plt.figure(figsize=(7, 5))\n",
    "place_counts.plot(kind='bar', color='coral')\n",
    "plt.title('Number of People from Each Place')\n",
    "plt.xlabel('Place')\n",
    "plt.ylabel('Count')\n",
    "plt.grid(axis='y', linestyle='--', alpha=0.7)\n",
    "plt.tight_layout()\n",
    "plt.show()"
   ]
  },
  {
   "cell_type": "code",
   "execution_count": 77,
   "id": "8b58f4ba-0632-4395-9d42-4c23b89ffff9",
   "metadata": {},
   "outputs": [
    {
     "data": {
      "text/plain": [
       "0      0\n",
       "1      0\n",
       "2      0\n",
       "3      0\n",
       "4      0\n",
       "      ..\n",
       "143    1\n",
       "144    1\n",
       "145    1\n",
       "146    1\n",
       "147    0\n",
       "Name: Gender_encoded, Length: 148, dtype: int64"
      ]
     },
     "execution_count": 77,
     "metadata": {},
     "output_type": "execute_result"
    }
   ],
   "source": [
    "#Q4. Data Encoding\n",
    "#  Label Encoding (for gender) \n",
    "from sklearn.preprocessing import LabelEncoder\n",
    "le = LabelEncoder()\n",
    "df['Gender_encoded'] = le.fit_transform(df['Gender'])\n",
    "df['Gender_encoded']"
   ]
  },
  {
   "cell_type": "code",
   "execution_count": 78,
   "id": "7baa3fd1-c65b-44d8-b65e-f4f5a716dc52",
   "metadata": {},
   "outputs": [
    {
     "name": "stdout",
     "output_type": "stream",
     "text": [
      "\n",
      "Encoded DataFrame:\n",
      "     Company   Age  Salary Country  Gender  Gender_encoded  place_Bhopal  \\\n",
      "0        TCS  20.0  5000.0   India       0               0         False   \n",
      "1    Infosys  30.0  5000.0   India       0               0         False   \n",
      "2        TCS  35.0  2300.0   India       0               0         False   \n",
      "3    Infosys  40.0  3000.0   India       0               0         False   \n",
      "4        TCS  23.0  4000.0   India       0               0         False   \n",
      "..       ...   ...     ...     ...     ...             ...           ...   \n",
      "143      TCS  33.0  9024.0   India       1               1         False   \n",
      "144  Infosys  22.0  8787.0   India       1               1         False   \n",
      "145  Infosys  44.0  4034.0   India       1               1         False   \n",
      "146      TCS  33.0  5034.0   India       1               1         False   \n",
      "147  Infosys  22.0  8202.0   India       0               0         False   \n",
      "\n",
      "     place_Calcutta  place_Chennai  place_Cochin  place_Delhi  \\\n",
      "0             False           True         False        False   \n",
      "1             False          False         False        False   \n",
      "2              True          False         False        False   \n",
      "3             False          False         False         True   \n",
      "4             False          False         False        False   \n",
      "..              ...            ...           ...          ...   \n",
      "143            True          False         False        False   \n",
      "144            True          False         False        False   \n",
      "145           False          False         False         True   \n",
      "146           False          False         False        False   \n",
      "147           False          False          True        False   \n",
      "\n",
      "     place_Hyderabad  place_Mumbai  place_Nagpur  place_Noida  \\\n",
      "0              False         False         False        False   \n",
      "1              False          True         False        False   \n",
      "2              False         False         False        False   \n",
      "3              False         False         False        False   \n",
      "4              False          True         False        False   \n",
      "..               ...           ...           ...          ...   \n",
      "143            False         False         False        False   \n",
      "144            False         False         False        False   \n",
      "145            False         False         False        False   \n",
      "146            False          True         False        False   \n",
      "147            False         False         False        False   \n",
      "\n",
      "     place_Podicherry  place_Pune  place_Unknown  \n",
      "0               False       False          False  \n",
      "1               False       False          False  \n",
      "2               False       False          False  \n",
      "3               False       False          False  \n",
      "4               False       False          False  \n",
      "..                ...         ...            ...  \n",
      "143             False       False          False  \n",
      "144             False       False          False  \n",
      "145             False       False          False  \n",
      "146             False       False          False  \n",
      "147             False       False          False  \n",
      "\n",
      "[148 rows x 18 columns]\n"
     ]
    }
   ],
   "source": [
    "#  One-Hot Encoding (for place) \n",
    "df_encoded = pd.get_dummies(df, columns=['Place'], prefix='place')\n",
    "\n",
    "print(\"\\nEncoded DataFrame:\")\n",
    "print(df_encoded)"
   ]
  },
  {
   "cell_type": "code",
   "execution_count": 89,
   "id": "50b6d64f-1373-4deb-87ba-86c1f42cdef2",
   "metadata": {},
   "outputs": [],
   "source": [
    "#Q5. Feature Scaling\n",
    "from sklearn.preprocessing import LabelEncoder, StandardScaler, MinMaxScaler\n",
    "df_encoded = df.drop(['Company', 'Gender', 'Place', 'Country'], axis=1)\n",
    "scaler_standard = StandardScaler()\n",
    "scaler_minmax = MinMaxScaler()\n",
    "\n",
    "# Apply StandardScaler\n",
    "standard_scaled = pd.DataFrame(\n",
    "    scaler_standard.fit_transform(df_encoded),\n",
    "    columns=[f\"{col}_std\" for col in df_encoded.columns]\n",
    ")\n",
    "\n",
    "# Apply MinMaxScaler\n",
    "minmax_scaled = pd.DataFrame(\n",
    "    scaler_minmax.fit_transform(df_encoded),\n",
    "    columns=[f\"{col}_minmax\" for col in df_encoded.columns]\n",
    ")"
   ]
  },
  {
   "cell_type": "code",
   "execution_count": 90,
   "id": "b4ba0688-a85c-4d4c-baa0-60e03f657559",
   "metadata": {},
   "outputs": [
    {
     "data": {
      "text/html": [
       "<div>\n",
       "<style scoped>\n",
       "    .dataframe tbody tr th:only-of-type {\n",
       "        vertical-align: middle;\n",
       "    }\n",
       "\n",
       "    .dataframe tbody tr th {\n",
       "        vertical-align: top;\n",
       "    }\n",
       "\n",
       "    .dataframe thead th {\n",
       "        text-align: right;\n",
       "    }\n",
       "</style>\n",
       "<table border=\"1\" class=\"dataframe\">\n",
       "  <thead>\n",
       "    <tr style=\"text-align: right;\">\n",
       "      <th></th>\n",
       "      <th>Age_std</th>\n",
       "      <th>Salary_std</th>\n",
       "      <th>Gender_encoded_std</th>\n",
       "    </tr>\n",
       "  </thead>\n",
       "  <tbody>\n",
       "    <tr>\n",
       "      <th>0</th>\n",
       "      <td>-1.462355</td>\n",
       "      <td>-0.111443</td>\n",
       "      <td>-0.535683</td>\n",
       "    </tr>\n",
       "    <tr>\n",
       "      <th>1</th>\n",
       "      <td>-0.248510</td>\n",
       "      <td>-0.111443</td>\n",
       "      <td>-0.535683</td>\n",
       "    </tr>\n",
       "    <tr>\n",
       "      <th>2</th>\n",
       "      <td>0.358412</td>\n",
       "      <td>-1.260788</td>\n",
       "      <td>-0.535683</td>\n",
       "    </tr>\n",
       "    <tr>\n",
       "      <th>3</th>\n",
       "      <td>0.965334</td>\n",
       "      <td>-0.962810</td>\n",
       "      <td>-0.535683</td>\n",
       "    </tr>\n",
       "    <tr>\n",
       "      <th>4</th>\n",
       "      <td>-1.098201</td>\n",
       "      <td>-0.537126</td>\n",
       "      <td>-0.535683</td>\n",
       "    </tr>\n",
       "    <tr>\n",
       "      <th>...</th>\n",
       "      <td>...</td>\n",
       "      <td>...</td>\n",
       "      <td>...</td>\n",
       "    </tr>\n",
       "    <tr>\n",
       "      <th>143</th>\n",
       "      <td>0.115643</td>\n",
       "      <td>1.601508</td>\n",
       "      <td>1.866775</td>\n",
       "    </tr>\n",
       "    <tr>\n",
       "      <th>144</th>\n",
       "      <td>-1.219586</td>\n",
       "      <td>1.500621</td>\n",
       "      <td>1.866775</td>\n",
       "    </tr>\n",
       "    <tr>\n",
       "      <th>145</th>\n",
       "      <td>1.450872</td>\n",
       "      <td>-0.522653</td>\n",
       "      <td>1.866775</td>\n",
       "    </tr>\n",
       "    <tr>\n",
       "      <th>146</th>\n",
       "      <td>0.115643</td>\n",
       "      <td>-0.096970</td>\n",
       "      <td>1.866775</td>\n",
       "    </tr>\n",
       "    <tr>\n",
       "      <th>147</th>\n",
       "      <td>-1.219586</td>\n",
       "      <td>1.251596</td>\n",
       "      <td>-0.535683</td>\n",
       "    </tr>\n",
       "  </tbody>\n",
       "</table>\n",
       "<p>148 rows × 3 columns</p>\n",
       "</div>"
      ],
      "text/plain": [
       "      Age_std  Salary_std  Gender_encoded_std\n",
       "0   -1.462355   -0.111443           -0.535683\n",
       "1   -0.248510   -0.111443           -0.535683\n",
       "2    0.358412   -1.260788           -0.535683\n",
       "3    0.965334   -0.962810           -0.535683\n",
       "4   -1.098201   -0.537126           -0.535683\n",
       "..        ...         ...                 ...\n",
       "143  0.115643    1.601508            1.866775\n",
       "144 -1.219586    1.500621            1.866775\n",
       "145  1.450872   -0.522653            1.866775\n",
       "146  0.115643   -0.096970            1.866775\n",
       "147 -1.219586    1.251596           -0.535683\n",
       "\n",
       "[148 rows x 3 columns]"
      ]
     },
     "execution_count": 90,
     "metadata": {},
     "output_type": "execute_result"
    }
   ],
   "source": [
    "standard_scaled"
   ]
  },
  {
   "cell_type": "code",
   "execution_count": 91,
   "id": "4db767f5-d583-47d8-830a-8fec79d5c207",
   "metadata": {},
   "outputs": [
    {
     "data": {
      "text/html": [
       "<div>\n",
       "<style scoped>\n",
       "    .dataframe tbody tr th:only-of-type {\n",
       "        vertical-align: middle;\n",
       "    }\n",
       "\n",
       "    .dataframe tbody tr th {\n",
       "        vertical-align: top;\n",
       "    }\n",
       "\n",
       "    .dataframe thead th {\n",
       "        text-align: right;\n",
       "    }\n",
       "</style>\n",
       "<table border=\"1\" class=\"dataframe\">\n",
       "  <thead>\n",
       "    <tr style=\"text-align: right;\">\n",
       "      <th></th>\n",
       "      <th>Age_minmax</th>\n",
       "      <th>Salary_minmax</th>\n",
       "      <th>Gender_encoded_minmax</th>\n",
       "    </tr>\n",
       "  </thead>\n",
       "  <tbody>\n",
       "    <tr>\n",
       "      <th>0</th>\n",
       "      <td>0.081081</td>\n",
       "      <td>0.445089</td>\n",
       "      <td>0.0</td>\n",
       "    </tr>\n",
       "    <tr>\n",
       "      <th>1</th>\n",
       "      <td>0.351351</td>\n",
       "      <td>0.445089</td>\n",
       "      <td>0.0</td>\n",
       "    </tr>\n",
       "    <tr>\n",
       "      <th>2</th>\n",
       "      <td>0.486486</td>\n",
       "      <td>0.137817</td>\n",
       "      <td>0.0</td>\n",
       "    </tr>\n",
       "    <tr>\n",
       "      <th>3</th>\n",
       "      <td>0.621622</td>\n",
       "      <td>0.217480</td>\n",
       "      <td>0.0</td>\n",
       "    </tr>\n",
       "    <tr>\n",
       "      <th>4</th>\n",
       "      <td>0.162162</td>\n",
       "      <td>0.331285</td>\n",
       "      <td>0.0</td>\n",
       "    </tr>\n",
       "    <tr>\n",
       "      <th>...</th>\n",
       "      <td>...</td>\n",
       "      <td>...</td>\n",
       "      <td>...</td>\n",
       "    </tr>\n",
       "    <tr>\n",
       "      <th>143</th>\n",
       "      <td>0.432432</td>\n",
       "      <td>0.903039</td>\n",
       "      <td>1.0</td>\n",
       "    </tr>\n",
       "    <tr>\n",
       "      <th>144</th>\n",
       "      <td>0.135135</td>\n",
       "      <td>0.876067</td>\n",
       "      <td>1.0</td>\n",
       "    </tr>\n",
       "    <tr>\n",
       "      <th>145</th>\n",
       "      <td>0.729730</td>\n",
       "      <td>0.335154</td>\n",
       "      <td>1.0</td>\n",
       "    </tr>\n",
       "    <tr>\n",
       "      <th>146</th>\n",
       "      <td>0.432432</td>\n",
       "      <td>0.448959</td>\n",
       "      <td>1.0</td>\n",
       "    </tr>\n",
       "    <tr>\n",
       "      <th>147</th>\n",
       "      <td>0.135135</td>\n",
       "      <td>0.809491</td>\n",
       "      <td>0.0</td>\n",
       "    </tr>\n",
       "  </tbody>\n",
       "</table>\n",
       "<p>148 rows × 3 columns</p>\n",
       "</div>"
      ],
      "text/plain": [
       "     Age_minmax  Salary_minmax  Gender_encoded_minmax\n",
       "0      0.081081       0.445089                    0.0\n",
       "1      0.351351       0.445089                    0.0\n",
       "2      0.486486       0.137817                    0.0\n",
       "3      0.621622       0.217480                    0.0\n",
       "4      0.162162       0.331285                    0.0\n",
       "..          ...            ...                    ...\n",
       "143    0.432432       0.903039                    1.0\n",
       "144    0.135135       0.876067                    1.0\n",
       "145    0.729730       0.335154                    1.0\n",
       "146    0.432432       0.448959                    1.0\n",
       "147    0.135135       0.809491                    0.0\n",
       "\n",
       "[148 rows x 3 columns]"
      ]
     },
     "execution_count": 91,
     "metadata": {},
     "output_type": "execute_result"
    }
   ],
   "source": [
    "minmax_scaled"
   ]
  },
  {
   "cell_type": "code",
   "execution_count": 86,
   "id": "94cc8db2-e996-4cd6-8754-5d5c63040101",
   "metadata": {},
   "outputs": [
    {
     "name": "stdout",
     "output_type": "stream",
     "text": [
      "\n",
      "Scaled Data (Standard & MinMax):\n",
      "      Age_std  Salary_std  Gender_encoded_std  Age_minmax  Salary_minmax  \\\n",
      "0   -1.462355   -0.111443           -0.535683    0.081081       0.445089   \n",
      "1   -0.248510   -0.111443           -0.535683    0.351351       0.445089   \n",
      "2    0.358412   -1.260788           -0.535683    0.486486       0.137817   \n",
      "3    0.965334   -0.962810           -0.535683    0.621622       0.217480   \n",
      "4   -1.098201   -0.537126           -0.535683    0.162162       0.331285   \n",
      "..        ...         ...                 ...         ...            ...   \n",
      "143  0.115643    1.601508            1.866775    0.432432       0.903039   \n",
      "144 -1.219586    1.500621            1.866775    0.135135       0.876067   \n",
      "145  1.450872   -0.522653            1.866775    0.729730       0.335154   \n",
      "146  0.115643   -0.096970            1.866775    0.432432       0.448959   \n",
      "147 -1.219586    1.251596           -0.535683    0.135135       0.809491   \n",
      "\n",
      "     Gender_encoded_minmax  \n",
      "0                      0.0  \n",
      "1                      0.0  \n",
      "2                      0.0  \n",
      "3                      0.0  \n",
      "4                      0.0  \n",
      "..                     ...  \n",
      "143                    1.0  \n",
      "144                    1.0  \n",
      "145                    1.0  \n",
      "146                    1.0  \n",
      "147                    0.0  \n",
      "\n",
      "[148 rows x 6 columns]\n"
     ]
    }
   ],
   "source": [
    "scaled_df = pd.concat([standard_scaled, minmax_scaled], axis=1)\n",
    "\n",
    "print(\"\\nScaled Data (Standard & MinMax):\")\n",
    "print(scaled_df)"
   ]
  }
 ],
 "metadata": {
  "kernelspec": {
   "display_name": "Python 3 (ipykernel)",
   "language": "python",
   "name": "python3"
  },
  "language_info": {
   "codemirror_mode": {
    "name": "ipython",
    "version": 3
   },
   "file_extension": ".py",
   "mimetype": "text/x-python",
   "name": "python",
   "nbconvert_exporter": "python",
   "pygments_lexer": "ipython3",
   "version": "3.12.7"
  }
 },
 "nbformat": 4,
 "nbformat_minor": 5
}
